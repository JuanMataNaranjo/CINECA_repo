{
 "cells": [
  {
   "cell_type": "code",
   "execution_count": 1,
   "metadata": {},
   "outputs": [],
   "source": [
    "%load_ext autoreload\n",
    "%autoreload 2"
   ]
  },
  {
   "cell_type": "code",
   "execution_count": 2,
   "metadata": {},
   "outputs": [],
   "source": [
    "import os\n",
    "import sys\n",
    "import matplotlib.pyplot as plt\n",
    "\n",
    "module_path = os.path.abspath(os.path.join('..\\..'))\n",
    "if module_path not in sys.path:\n",
    "    sys.path.insert(0, module_path)"
   ]
  },
  {
   "cell_type": "code",
   "execution_count": 4,
   "metadata": {},
   "outputs": [],
   "source": [
    "from qc.log_analysis_new import *\n",
    "from qc.applybqsr import ApplyBQSR\n",
    "from qc.baserecalibrator import BaseRecalibrator\n",
    "from qc.bwa import Bwa\n",
    "from qc.fastqc import Fastqc\n",
    "from qc.haplotype import HaploType\n",
    "from qc.samsort import SamSort"
   ]
  },
  {
   "cell_type": "code",
   "execution_count": 5,
   "metadata": {},
   "outputs": [],
   "source": [
    "samples = [#'HSRR062616', \n",
    "           #'SRR000000',\n",
    "           'sample1', \n",
    "           #'SRR062635', \n",
    "           #'SRR062641', \n",
    "           #'SRR1301779',\n",
    "           #'SRR7810655', \n",
    "           #'SRR14675507', \n",
    "           #'SRR14675520', \n",
    "           #'SRR16622092', \n",
    "           #'SRR16897842',\n",
    "           #'SRR1914891',\n",
    "           #'SRR5349384',\n",
    "           #'SRR5349383',\n",
    "           #'SRR5349381',\n",
    "           #'SRR5349392',\n",
    "           #'SRR5377844',\n",
    "           #'SRR5377843',\n",
    "           #'SRR5377842',\n",
    "           #'SRR5377841',\n",
    "           #'SRR5377840',\n",
    "           #'SRR5377839',\n",
    "           #'SRR5377838',\n",
    "           #'SRR5377837'\n",
    "           ]"
   ]
  },
  {
   "cell_type": "code",
   "execution_count": 8,
   "metadata": {
    "scrolled": false
   },
   "outputs": [
    {
     "name": "stdout",
     "output_type": "stream",
     "text": [
      "sample1\n",
      "Bwa\n",
      "Issue with Bwa:  sample1\n",
      "check_correct_sample: sample1 should be processed however another sample has been processed instead\n",
      "Fastqc\n",
      "SamSort\n"
     ]
    },
    {
     "ename": "FileNotFoundError",
     "evalue": "[Errno 2] No such file or directory: 'data/Centro/Studio/Sample/samsort/sample1_samblaster.log'",
     "output_type": "error",
     "traceback": [
      "\u001b[0;31m---------------------------------------------------------------------------\u001b[0m",
      "\u001b[0;31mFileNotFoundError\u001b[0m                         Traceback (most recent call last)",
      "Cell \u001b[0;32mIn[8], line 22\u001b[0m\n\u001b[1;32m     19\u001b[0m     \u001b[39mprint\u001b[39m(e)\n\u001b[1;32m     21\u001b[0m \u001b[39mprint\u001b[39m(\u001b[39m'\u001b[39m\u001b[39mSamSort\u001b[39m\u001b[39m'\u001b[39m)\n\u001b[0;32m---> 22\u001b[0m samsort_class \u001b[39m=\u001b[39m SamSort(path\u001b[39m=\u001b[39;49mparent_path\u001b[39m+\u001b[39;49m\u001b[39m'\u001b[39;49m\u001b[39msamsort/\u001b[39;49m\u001b[39m'\u001b[39;49m, sample\u001b[39m=\u001b[39;49msample, table_path\u001b[39m=\u001b[39;49m\u001b[39m'\u001b[39;49m\u001b[39mdata/fastq.csv\u001b[39;49m\u001b[39m'\u001b[39;49m)\n\u001b[1;32m     23\u001b[0m \u001b[39mtry\u001b[39;00m:\n\u001b[1;32m     24\u001b[0m     samsort_class\u001b[39m.\u001b[39mcheck_log()\n",
      "File \u001b[0;32m~/Documents/Life Science/NIG/CINECA_repo/qc/samsort.py:16\u001b[0m, in \u001b[0;36mSamSort.__init__\u001b[0;34m(self, path, sample, table_path)\u001b[0m\n\u001b[1;32m     14\u001b[0m \u001b[39mself\u001b[39m\u001b[39m.\u001b[39msample \u001b[39m=\u001b[39m sample\n\u001b[1;32m     15\u001b[0m \u001b[39mself\u001b[39m\u001b[39m.\u001b[39mpaired \u001b[39m=\u001b[39m \u001b[39mself\u001b[39m\u001b[39m.\u001b[39msingle_paired(table_path)\n\u001b[0;32m---> 16\u001b[0m \u001b[39mself\u001b[39;49m\u001b[39m.\u001b[39;49mread_log()\n\u001b[1;32m     17\u001b[0m \u001b[39mself\u001b[39m\u001b[39m.\u001b[39mdups \u001b[39m=\u001b[39m \u001b[39mNone\u001b[39;00m\n",
      "File \u001b[0;32m~/Documents/Life Science/NIG/CINECA_repo/qc/samsort.py:37\u001b[0m, in \u001b[0;36mSamSort.read_log\u001b[0;34m(self)\u001b[0m\n\u001b[1;32m     33\u001b[0m \u001b[39mdef\u001b[39;00m \u001b[39mread_log\u001b[39m(\u001b[39mself\u001b[39m):\n\u001b[1;32m     34\u001b[0m \u001b[39m    \u001b[39m\u001b[39m\"\"\"\u001b[39;00m\n\u001b[1;32m     35\u001b[0m \u001b[39m    Method to store the log file as part of the class variables\u001b[39;00m\n\u001b[1;32m     36\u001b[0m \u001b[39m    \"\"\"\u001b[39;00m\n\u001b[0;32m---> 37\u001b[0m     \u001b[39mwith\u001b[39;00m \u001b[39mopen\u001b[39;49m(\u001b[39mself\u001b[39;49m\u001b[39m.\u001b[39;49mpath \u001b[39m+\u001b[39;49m \u001b[39mself\u001b[39;49m\u001b[39m.\u001b[39;49msample \u001b[39m+\u001b[39;49m \u001b[39m'\u001b[39;49m\u001b[39m_samblaster.log\u001b[39;49m\u001b[39m'\u001b[39;49m) \u001b[39mas\u001b[39;00m f:\n\u001b[1;32m     38\u001b[0m         \u001b[39mself\u001b[39m\u001b[39m.\u001b[39mlog_file \u001b[39m=\u001b[39m f\u001b[39m.\u001b[39mreadlines()\n\u001b[1;32m     39\u001b[0m     \u001b[39mwith\u001b[39;00m \u001b[39mopen\u001b[39m(\u001b[39mself\u001b[39m\u001b[39m.\u001b[39mpath \u001b[39m+\u001b[39m \u001b[39mself\u001b[39m\u001b[39m.\u001b[39msample \u001b[39m+\u001b[39m \u001b[39m'\u001b[39m\u001b[39m_sort_nodup.sam.log\u001b[39m\u001b[39m'\u001b[39m) \u001b[39mas\u001b[39;00m f:\n",
      "\u001b[0;31mFileNotFoundError\u001b[0m: [Errno 2] No such file or directory: 'data/Centro/Studio/Sample/samsort/sample1_samblaster.log'"
     ]
    }
   ],
   "source": [
    "parent_path = 'data/Centro/Studio/Sample/'\n",
    "list_ = []\n",
    "for sample in samples:\n",
    "    print(sample)\n",
    "    print('Bwa')\n",
    "    bwa_class = Bwa(path=parent_path+'bwa/', sample=sample, table_path='data/fastq.csv')\n",
    "    try:\n",
    "        bwa_class.check_log()\n",
    "    except Exception as e:\n",
    "        print('Issue with Bwa: ', sample)\n",
    "        print(e)\n",
    "    \n",
    "    print('Fastqc')\n",
    "    fastqc_class = Fastqc(path=parent_path+'fastqc/', sample=sample)\n",
    "    try:\n",
    "        fastqc_class.check_log()\n",
    "    except Exception as e:\n",
    "        print('Issue with Fastqc: ', sample)\n",
    "        print(e)\n",
    "    \n",
    "    print('SamSort')\n",
    "    samsort_class = SamSort(path=parent_path+'samsort/', sample=sample, table_path='data/fastq.csv')\n",
    "    try:\n",
    "        samsort_class.check_log()\n",
    "    except Exception as e:\n",
    "        print('Issue with SamSort: ', sample)\n",
    "        print(e)\n",
    "    \n",
    "    print('BaseRecalibrator')\n",
    "    baserecalibrator_class = BaseRecalibrator(path=parent_path+'baserecalibrator/', sample=sample, \n",
    "                                              table_path='data/fastq.csv')\n",
    "    try:\n",
    "        score = baserecalibrator_class.check_log(title=None, score=True)\n",
    "                \n",
    "    except Exception as e:\n",
    "        print('Issue with BaseRecalibrator: ', sample)\n",
    "        print(e)\n",
    "    \n",
    "    print('ApplyBQSR')\n",
    "    applybqsr_class = ApplyBQSR(path=parent_path+'applybqsr/', sample=sample)\n",
    "    try:\n",
    "        score += applybqsr_class.check_log(title=None, score=True)\n",
    "                \n",
    "    except Exception as e:\n",
    "        print('Issue with ApplyBQSR: ', sample)\n",
    "        print(e)\n",
    "    \n",
    "    print('HaploType')\n",
    "    haplo_class = HaploType(path=parent_path+'haplotypecaller/', sample=sample, table_path='data/fastq.csv')\n",
    "    try:\n",
    "        score += haplo_class.check_log(warning_plot=False, title=None, score=True)\n",
    "                \n",
    "    except Exception as e:\n",
    "        print('Issue with HaploType: ', sample)\n",
    "        print(e)\n",
    "        \n",
    "    list_.append([sample, round(score, 2)])\n",
    "\n",
    "    print('===============')\n",
    "    print('')"
   ]
  },
  {
   "cell_type": "code",
   "execution_count": null,
   "metadata": {},
   "outputs": [],
   "source": []
  },
  {
   "cell_type": "code",
   "execution_count": 13,
   "metadata": {},
   "outputs": [
    {
     "data": {
      "text/plain": [
       "True"
      ]
     },
     "execution_count": 13,
     "metadata": {},
     "output_type": "execute_result"
    }
   ],
   "source": [
    "bwa_class.paired"
   ]
  },
  {
   "cell_type": "code",
   "execution_count": 14,
   "metadata": {},
   "outputs": [],
   "source": [
    "def _batch(self, iterable, n=1):\n",
    "        l = len(iterable)\n",
    "        for ndx in range(0, l, n):\n",
    "            yield iterable[ndx:min(ndx + n, l)]"
   ]
  },
  {
   "cell_type": "code",
   "execution_count": 18,
   "metadata": {},
   "outputs": [],
   "source": [
    "for batch in bwa_class._batch(bwa_class.process, 2):\n",
    "    seq1 = int(re.findall(r'\\d+', batch[0])[0])\n",
    "    #print(seq1)\n",
    "    seq2 = list(map(int, re.findall(r'\\d+', batch[1])))\n",
    "    #print(seq2)\n",
    "    if seq1 != sum(seq2):\n",
    "        print('Error')"
   ]
  },
  {
   "cell_type": "code",
   "execution_count": 19,
   "metadata": {},
   "outputs": [
    {
     "data": {
      "text/plain": [
       "['[M::process] read 9230 sequences (1234314 bp)...\\n',\n",
       " '[M::process] 0 single-end sequences; 9230 paired-end sequences\\n']"
      ]
     },
     "execution_count": 19,
     "metadata": {},
     "output_type": "execute_result"
    }
   ],
   "source": [
    "batch"
   ]
  },
  {
   "cell_type": "code",
   "execution_count": 21,
   "metadata": {},
   "outputs": [
    {
     "data": {
      "text/plain": [
       "[0, 9230]"
      ]
     },
     "execution_count": 21,
     "metadata": {},
     "output_type": "execute_result"
    }
   ],
   "source": [
    "seq2"
   ]
  },
  {
   "cell_type": "code",
   "execution_count": null,
   "metadata": {},
   "outputs": [],
   "source": []
  }
 ],
 "metadata": {
  "interpreter": {
   "hash": "cd717f3d22045e6a1acb97ac71ff2b37b404151c150d1d689feaa04a2a68d6dc"
  },
  "kernelspec": {
   "display_name": "data_science_general",
   "language": "python",
   "name": "python3"
  },
  "language_info": {
   "codemirror_mode": {
    "name": "ipython",
    "version": 3
   },
   "file_extension": ".py",
   "mimetype": "text/x-python",
   "name": "python",
   "nbconvert_exporter": "python",
   "pygments_lexer": "ipython3",
   "version": "3.10.6"
  }
 },
 "nbformat": 4,
 "nbformat_minor": 4
}
