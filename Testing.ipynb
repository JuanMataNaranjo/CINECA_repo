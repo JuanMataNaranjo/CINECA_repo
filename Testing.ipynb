{
 "cells": [
  {
   "cell_type": "code",
   "execution_count": 125,
   "metadata": {},
   "outputs": [
    {
     "name": "stdout",
     "output_type": "stream",
     "text": [
      "The autoreload extension is already loaded. To reload it, use:\n",
      "  %reload_ext autoreload\n"
     ]
    }
   ],
   "source": [
    "%load_ext autoreload\n",
    "%autoreload 2"
   ]
  },
  {
   "cell_type": "code",
   "execution_count": 126,
   "metadata": {},
   "outputs": [],
   "source": [
    "import os\n",
    "import sys\n",
    "import matplotlib.pyplot as plt\n",
    "\n",
    "module_path = os.path.abspath(os.path.join('..\\..'))\n",
    "if module_path not in sys.path:\n",
    "    sys.path.insert(0, module_path)"
   ]
  },
  {
   "cell_type": "code",
   "execution_count": 254,
   "metadata": {},
   "outputs": [],
   "source": [
    "from log_analysis import *"
   ]
  },
  {
   "cell_type": "code",
   "execution_count": 255,
   "metadata": {},
   "outputs": [],
   "source": [
    "samples = ['HSRR062625', 'HSRR062634', 'HSRR062645', 'HSRR062650']"
   ]
  },
  {
   "cell_type": "code",
   "execution_count": 275,
   "metadata": {
    "scrolled": false
   },
   "outputs": [
    {
     "name": "stdout",
     "output_type": "stream",
     "text": [
      "HSRR062625\n",
      "Bwa\n",
      "Fastqc\n",
      "SamSort\n",
      "Everything fine so far :)\n",
      "===============\n",
      "\n",
      "HSRR062634\n",
      "Bwa\n",
      "Fastqc\n",
      "SamSort\n",
      "Everything fine so far :)\n",
      "===============\n",
      "\n",
      "HSRR062645\n",
      "Bwa\n",
      "Fastqc\n",
      "SamSort\n",
      "Everything fine so far :)\n",
      "===============\n",
      "\n",
      "HSRR062650\n",
      "Bwa\n",
      "Fastqc\n",
      "SamSort\n",
      "Everything fine so far :)\n",
      "===============\n",
      "\n"
     ]
    }
   ],
   "source": [
    "for sample in samples:\n",
    "    print(sample)\n",
    "    print('Bwa')\n",
    "    bwa_class = Bwa(path='data/bwa/', sample=sample)\n",
    "    bwa_class.check_log()\n",
    "    \n",
    "    print('Fastqc')\n",
    "    fastqc_class = Fastqc(path='data/fastqc/', sample=sample)\n",
    "    fastqc_class.check_log()\n",
    "    \n",
    "    print('SamSort')\n",
    "    samsort_class = SamSort(path='data/samsort/', sample=sample)\n",
    "    samsort_class.check_log()\n",
    "    print('Everything fine so far :)')\n",
    "    print('===============')\n",
    "    print('')"
   ]
  },
  {
   "cell_type": "code",
   "execution_count": null,
   "metadata": {},
   "outputs": [],
   "source": []
  },
  {
   "cell_type": "code",
   "execution_count": null,
   "metadata": {},
   "outputs": [],
   "source": []
  },
  {
   "cell_type": "code",
   "execution_count": null,
   "metadata": {},
   "outputs": [],
   "source": []
  },
  {
   "cell_type": "code",
   "execution_count": null,
   "metadata": {},
   "outputs": [],
   "source": []
  }
 ],
 "metadata": {
  "kernelspec": {
   "display_name": "data_science_general",
   "language": "python",
   "name": "data_science_general"
  },
  "language_info": {
   "codemirror_mode": {
    "name": "ipython",
    "version": 3
   },
   "file_extension": ".py",
   "mimetype": "text/x-python",
   "name": "python",
   "nbconvert_exporter": "python",
   "pygments_lexer": "ipython3",
   "version": "3.7.9"
  }
 },
 "nbformat": 4,
 "nbformat_minor": 4
}
