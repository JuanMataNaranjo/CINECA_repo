{
 "cells": [
  {
   "cell_type": "code",
   "execution_count": 56,
   "metadata": {},
   "outputs": [
    {
     "name": "stdout",
     "output_type": "stream",
     "text": [
      "The autoreload extension is already loaded. To reload it, use:\n",
      "  %reload_ext autoreload\n"
     ]
    }
   ],
   "source": [
    "%load_ext autoreload\n",
    "%autoreload 2"
   ]
  },
  {
   "cell_type": "code",
   "execution_count": 57,
   "metadata": {},
   "outputs": [],
   "source": [
    "import os\n",
    "import sys\n",
    "import matplotlib.pyplot as plt\n",
    "\n",
    "module_path = os.path.abspath(os.path.join('..\\..'))\n",
    "if module_path not in sys.path:\n",
    "    sys.path.insert(0, module_path)"
   ]
  },
  {
   "cell_type": "code",
   "execution_count": 58,
   "metadata": {},
   "outputs": [],
   "source": [
    "from log_analysis import *"
   ]
  },
  {
   "cell_type": "code",
   "execution_count": 113,
   "metadata": {},
   "outputs": [],
   "source": [
    "samples = ['HSRR062625', 'HSRR062634', 'HSRR062645', 'HSRR062650']"
   ]
  },
  {
   "cell_type": "code",
   "execution_count": 115,
   "metadata": {
    "scrolled": false
   },
   "outputs": [
    {
     "name": "stdout",
     "output_type": "stream",
     "text": [
      "HSRR062625\n",
      "Bwa\n",
      "Everything fine :)\n",
      "Fastqc\n",
      "Everything fine :)\n",
      "===============\n",
      "HSRR062634\n",
      "Bwa\n",
      "Everything fine :)\n",
      "Fastqc\n",
      "Everything fine :)\n",
      "===============\n",
      "HSRR062645\n",
      "Bwa\n",
      "Everything fine :)\n",
      "Fastqc\n",
      "Everything fine :)\n",
      "===============\n",
      "HSRR062650\n",
      "Bwa\n",
      "Everything fine :)\n",
      "Fastqc\n",
      "Everything fine :)\n",
      "===============\n"
     ]
    }
   ],
   "source": [
    "for sample in samples:\n",
    "    print(sample)\n",
    "    print('Bwa')\n",
    "    bwa_class = Bwa(path='data/bwa/', sample=sample)\n",
    "    bwa_class.read_log()\n",
    "    bwa_class.check_log()\n",
    "    \n",
    "    print('Fastqc')\n",
    "    fastqc_class = Fastqc(path='data/fastqc/', sample=sample)\n",
    "    fastqc_class.read_log()\n",
    "    fastqc_class.check_log()\n",
    "    print('===============')"
   ]
  },
  {
   "cell_type": "code",
   "execution_count": null,
   "metadata": {},
   "outputs": [],
   "source": []
  },
  {
   "cell_type": "code",
   "execution_count": null,
   "metadata": {},
   "outputs": [],
   "source": []
  },
  {
   "cell_type": "code",
   "execution_count": 90,
   "metadata": {},
   "outputs": [
    {
     "name": "stdout",
     "output_type": "stream",
     "text": [
      "irs\n",
      "\n",
      "...\n",
      "\n",
      "1\n",
      "94)\n",
      "\n",
      "46)\n",
      "\n",
      "48)\n",
      "\n",
      "72)\n",
      "\n",
      "irs\n",
      "\n",
      "irs\n",
      "\n"
     ]
    }
   ],
   "source": [
    "for num, i in enumerate(bwa_class.log_file[4:-4]):\n",
    "    print(i[-4:])\n",
    "    if (i[-4:-1] == '...'):\n",
    "        if dict_[bwa_class.log_file[4:-4][1][-6:-4]] > threshold:\n",
    "            if ((bwa_class.log_file[4+num+1][:40] != '[M::mem_pestat] (25, 50, 75) percentile:') | \n",
    "                (bwa_class.log_file[4+num+2][:71] != '[M::mem_pestat] low and high boundaries for computing mean and std.dev:') | \n",
    "                (bwa_class.log_file[4+num+3][:33] != '[M::mem_pestat] mean and std.dev:') | \n",
    "                (bwa_class.log_file[4+num+4][:57] != '[M::mem_pestat] low and high boundaries for proper pairs:')):\n",
    "                raise Exception()\n",
    "        else:\n",
    "            raise Exception()\n",
    "        "
   ]
  },
  {
   "cell_type": "code",
   "execution_count": 112,
   "metadata": {},
   "outputs": [
    {
     "data": {
      "text/plain": [
       "'[M::mem_pestat] low and high boundaries for proper pairs:'"
      ]
     },
     "execution_count": 112,
     "metadata": {},
     "output_type": "execute_result"
    }
   ],
   "source": [
    "bwa_class.log_file[9][:57]"
   ]
  },
  {
   "cell_type": "code",
   "execution_count": null,
   "metadata": {},
   "outputs": [],
   "source": []
  }
 ],
 "metadata": {
  "kernelspec": {
   "display_name": "data_science_general",
   "language": "python",
   "name": "data_science_general"
  },
  "language_info": {
   "codemirror_mode": {
    "name": "ipython",
    "version": 3
   },
   "file_extension": ".py",
   "mimetype": "text/x-python",
   "name": "python",
   "nbconvert_exporter": "python",
   "pygments_lexer": "ipython3",
   "version": "3.7.9"
  }
 },
 "nbformat": 4,
 "nbformat_minor": 4
}
